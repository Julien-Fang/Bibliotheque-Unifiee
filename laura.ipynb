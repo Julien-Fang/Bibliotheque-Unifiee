{
 "cells": [
  {
   "cell_type": "code",
   "execution_count": 12,
   "metadata": {},
   "outputs": [],
   "source": [
    "import graphviz as gv"
   ]
  },
  {
   "cell_type": "markdown",
   "metadata": {},
   "source": [
    "# Arbres-B"
   ]
  },
  {
   "cell_type": "code",
   "execution_count": null,
   "metadata": {},
   "outputs": [],
   "source": [
    "class NoeudB:\n",
    "    def __init__(self, cle=None):\n",
    "        self.cles = [cle] # nbCles noeud : entre m et 2m, nbCles racine : entre 1 et 2m\n",
    "        self.enfants = []\n",
    "        self.parent = None\n",
    "\n",
    "class ArbreB:\n",
    "    def __init__(self, ordre=0):\n",
    "        self.NBCLESMAX = 2*ordre\n",
    "        self.racine = None\n",
    "\n",
    "\n",
    "    def estVide(self):\n",
    "        return self.racine is None\n",
    "    \n",
    "    def estFeuille(self, noeud):\n",
    "        return noeud.enfants == []\n",
    "    \n",
    "    def sousArbre(self, i):\n",
    "        if not self.estVide():\n",
    "            if i >= 0 and i <= len(self.racine.enfants):\n",
    "                return self.racine.enfants[i]\n",
    "        return ArbreB() # arbreB vide\n",
    "\n",
    "    def estDans(self, noeud, cle):\n",
    "        if noeud is None:\n",
    "            return False\n",
    "        return cle in noeud.cles\n",
    "\n",
    "\n",
    "    def ajoutFeuille(self, noeud, cle):\n",
    "        nbCles = len(noeud.cles)\n",
    "        if nbCles == 0:\n",
    "            noeud.cles.append(cle)\n",
    "        else:\n",
    "            noeud.cles.append(cle)\n",
    "            noeud.cles.sort()\n",
    "\n",
    "    def ajout(self, cle):\n",
    "        if self.estVide():\n",
    "            nouveau_noeud = NoeudB(cle)\n",
    "            self.racine = nouveau_noeud\n",
    "        else:\n",
    "            self.ajoutSimple(self.racine, cle)\n",
    "\n",
    "\n",
    "    def ajoutSimple(self, noeud, cle):\n",
    "        if len(noeud.enfants) == self.NBCLESMAX + 1: # eclatement a la descente\n",
    "            self.eclatement(noeud)\n",
    "        if not self.estDans(noeud, cle): # pas de doublon : ajout possible\n",
    "            if self.estFeuille(noeud): # feuille : ok ajouter cle\n",
    "                self.ajoutFeuille(noeud, cle)\n",
    "            else: # sinon chercher le bon enfant ou il faut ajouter\n",
    "                for i in range(len(noeud.cles)):\n",
    "                    if cle < noeud.cles[i]:\n",
    "                        self.ajoutSimple(noeud.enfants[i])\n",
    "                self.ajoutSimple(noeud.enfants[-1]) # dernier enfant\n",
    "\n",
    "\n",
    "    def eclatement(self, noeud): # a faire\n",
    "        pass\n",
    "\n",
    "\n",
    "    def recherche(self, cle):\n",
    "        if self.estVide():\n",
    "            return False\n",
    "        if self.estDans(self.racine, cle):\n",
    "            return True\n",
    "        nbCles = len(self.racine.cles)\n",
    "        for i in range(nbCles):\n",
    "            if cle < self.racine.cles[i]:\n",
    "                return self.recherche(self.sousArbre(i))\n",
    "        return self.recherche(self.sousArbre(nbCles + 1)) # sinon chercher dans le dernier enfant\n",
    "                    \n",
    "\n",
    "    def suppression(self, cle): # a faire\n",
    "        pass\n",
    "            \n"
   ]
  }
 ],
 "metadata": {
  "kernelspec": {
   "display_name": "Python 3",
   "language": "python",
   "name": "python3"
  },
  "language_info": {
   "codemirror_mode": {
    "name": "ipython",
    "version": 3
   },
   "file_extension": ".py",
   "mimetype": "text/x-python",
   "name": "python",
   "nbconvert_exporter": "python",
   "pygments_lexer": "ipython3",
   "version": "3.11.7"
  }
 },
 "nbformat": 4,
 "nbformat_minor": 2
}
